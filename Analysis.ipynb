{
 "cells": [
  {
   "cell_type": "code",
   "execution_count": 23,
   "metadata": {},
   "outputs": [],
   "source": [
    "import numpy as np\n",
    "import pandas as pd\n",
    "import matplotlib.pyplot as plt "
   ]
  },
  {
   "cell_type": "code",
   "execution_count": 41,
   "metadata": {},
   "outputs": [],
   "source": [
    "path = \"Logs/Log_43/\" # random:20, 14, sort 100:18, sort 50:17\n",
    "n = 50000\n",
    "file = open(path + 'Node_Log.txt', 'r')\n",
    "\n",
    "line = file.readline()\n",
    "Node = [i for i in range(n)]\n",
    "Region = [0 for i in range(n)]\n",
    "Time = [0 for i in range(n)]\n",
    "Height = [0 for i in range(n)]\n",
    "links = [0 for i in range(n)]\n",
    "while line:\n",
    "    node = int(line.split()[0])\n",
    "    time = (int(line.split()[1]))\n",
    "    region = (int(line.split()[2]))\n",
    "    h = int(line.split()[3])\n",
    "    l = int(line.split()[4])\n",
    "    Region[node] = region\n",
    "    Time[node] = time\n",
    "    Height[node] = h\n",
    "    links[node] = l\n",
    "    line = file.readline()"
   ]
  },
  {
   "cell_type": "code",
   "execution_count": 42,
   "metadata": {},
   "outputs": [],
   "source": [
    "file = open(path + 'Agent_Log.txt', 'r')\n",
    "\n",
    "line = file.readline()\n",
    "is_Agent = [False for i in range(n)]\n",
    "Subset = [0 for i in range(n)]\n",
    "while line:\n",
    "    node = int(line.split()[0])\n",
    "    subset = int(line.split()[2])\n",
    "    is_Agent[node] = True\n",
    "    Subset[node] = subset\n",
    "    line = file.readline()"
   ]
  },
  {
   "cell_type": "code",
   "execution_count": 43,
   "metadata": {},
   "outputs": [],
   "source": [
    "file = open(path + 'Source_Msg_Log.txt', 'r')\n",
    "\n",
    "line = file.readline()\n",
    "tree_edges = [[] for i in range(n)]\n",
    "sender_set = set()\n",
    "root = None\n",
    "while line:\n",
    "    sender = int(line.split()[4])\n",
    "    receiver = int(line.split()[6])\n",
    "    sender_set.add(sender)\n",
    "    if sender == receiver:\n",
    "        root = sender\n",
    "        line = file.readline()\n",
    "        continue\n",
    "    tree_edges[sender].append(receiver)\n",
    "    line = file.readline()\n",
    "\n",
    "Leaves = [len(tree_edges[i]) for i in range(n)]"
   ]
  },
  {
   "cell_type": "code",
   "execution_count": 44,
   "metadata": {},
   "outputs": [],
   "source": [
    "Data = pd.DataFrame(data={'Node_id':Node, \"Receipt_time\":Time, \"Height\":Height, \"Region_id\":Region, \n",
    "                          \"is_Agent\":is_Agent, \"Agent_subset\":Subset, \"Leaves\":Leaves, \n",
    "                          \"Links\": links, \"Leaves_list\":tree_edges})"
   ]
  },
  {
   "cell_type": "code",
   "execution_count": 45,
   "metadata": {},
   "outputs": [
    {
     "data": {
      "text/html": [
       "<div>\n",
       "<style scoped>\n",
       "    .dataframe tbody tr th:only-of-type {\n",
       "        vertical-align: middle;\n",
       "    }\n",
       "\n",
       "    .dataframe tbody tr th {\n",
       "        vertical-align: top;\n",
       "    }\n",
       "\n",
       "    .dataframe thead th {\n",
       "        text-align: right;\n",
       "    }\n",
       "</style>\n",
       "<table border=\"1\" class=\"dataframe\">\n",
       "  <thead>\n",
       "    <tr style=\"text-align: right;\">\n",
       "      <th></th>\n",
       "      <th>Node_id</th>\n",
       "      <th>Receipt_time</th>\n",
       "      <th>Height</th>\n",
       "      <th>Region_id</th>\n",
       "      <th>is_Agent</th>\n",
       "      <th>Agent_subset</th>\n",
       "      <th>Leaves</th>\n",
       "      <th>Links</th>\n",
       "      <th>Leaves_list</th>\n",
       "      <th>is_Leave</th>\n",
       "    </tr>\n",
       "  </thead>\n",
       "  <tbody>\n",
       "    <tr>\n",
       "      <th>6258</th>\n",
       "      <td>6258</td>\n",
       "      <td>0</td>\n",
       "      <td>0</td>\n",
       "      <td>5</td>\n",
       "      <td>True</td>\n",
       "      <td>1</td>\n",
       "      <td>6</td>\n",
       "      <td>6</td>\n",
       "      <td>[47332, 20107, 35938, 7023, 15982, 46631]</td>\n",
       "      <td>0</td>\n",
       "    </tr>\n",
       "    <tr>\n",
       "      <th>47332</th>\n",
       "      <td>47332</td>\n",
       "      <td>11546</td>\n",
       "      <td>1</td>\n",
       "      <td>5</td>\n",
       "      <td>True</td>\n",
       "      <td>1</td>\n",
       "      <td>7</td>\n",
       "      <td>8</td>\n",
       "      <td>[15019, 18001, 22807, 40396, 22619, 47994, 45064]</td>\n",
       "      <td>0</td>\n",
       "    </tr>\n",
       "    <tr>\n",
       "      <th>20107</th>\n",
       "      <td>20107</td>\n",
       "      <td>18212</td>\n",
       "      <td>1</td>\n",
       "      <td>5</td>\n",
       "      <td>True</td>\n",
       "      <td>1</td>\n",
       "      <td>10</td>\n",
       "      <td>11</td>\n",
       "      <td>[10330, 15352, 46692, 16481, 26079, 31024, 433...</td>\n",
       "      <td>0</td>\n",
       "    </tr>\n",
       "    <tr>\n",
       "      <th>35938</th>\n",
       "      <td>35938</td>\n",
       "      <td>29747</td>\n",
       "      <td>1</td>\n",
       "      <td>11</td>\n",
       "      <td>True</td>\n",
       "      <td>1</td>\n",
       "      <td>6</td>\n",
       "      <td>8</td>\n",
       "      <td>[17025, 42, 29368, 2157, 47441, 42192]</td>\n",
       "      <td>0</td>\n",
       "    </tr>\n",
       "    <tr>\n",
       "      <th>15019</th>\n",
       "      <td>15019</td>\n",
       "      <td>34627</td>\n",
       "      <td>2</td>\n",
       "      <td>11</td>\n",
       "      <td>True</td>\n",
       "      <td>1</td>\n",
       "      <td>4</td>\n",
       "      <td>6</td>\n",
       "      <td>[32598, 15937, 37476, 42290]</td>\n",
       "      <td>0</td>\n",
       "    </tr>\n",
       "    <tr>\n",
       "      <th>...</th>\n",
       "      <td>...</td>\n",
       "      <td>...</td>\n",
       "      <td>...</td>\n",
       "      <td>...</td>\n",
       "      <td>...</td>\n",
       "      <td>...</td>\n",
       "      <td>...</td>\n",
       "      <td>...</td>\n",
       "      <td>...</td>\n",
       "      <td>...</td>\n",
       "    </tr>\n",
       "    <tr>\n",
       "      <th>49388</th>\n",
       "      <td>49388</td>\n",
       "      <td>399617</td>\n",
       "      <td>11</td>\n",
       "      <td>15</td>\n",
       "      <td>False</td>\n",
       "      <td>0</td>\n",
       "      <td>0</td>\n",
       "      <td>4</td>\n",
       "      <td>[]</td>\n",
       "      <td>1</td>\n",
       "    </tr>\n",
       "    <tr>\n",
       "      <th>46795</th>\n",
       "      <td>46795</td>\n",
       "      <td>401940</td>\n",
       "      <td>10</td>\n",
       "      <td>15</td>\n",
       "      <td>False</td>\n",
       "      <td>0</td>\n",
       "      <td>0</td>\n",
       "      <td>4</td>\n",
       "      <td>[]</td>\n",
       "      <td>1</td>\n",
       "    </tr>\n",
       "    <tr>\n",
       "      <th>47812</th>\n",
       "      <td>47812</td>\n",
       "      <td>406476</td>\n",
       "      <td>11</td>\n",
       "      <td>15</td>\n",
       "      <td>False</td>\n",
       "      <td>0</td>\n",
       "      <td>0</td>\n",
       "      <td>4</td>\n",
       "      <td>[]</td>\n",
       "      <td>1</td>\n",
       "    </tr>\n",
       "    <tr>\n",
       "      <th>45589</th>\n",
       "      <td>45589</td>\n",
       "      <td>407315</td>\n",
       "      <td>14</td>\n",
       "      <td>15</td>\n",
       "      <td>False</td>\n",
       "      <td>0</td>\n",
       "      <td>0</td>\n",
       "      <td>4</td>\n",
       "      <td>[]</td>\n",
       "      <td>1</td>\n",
       "    </tr>\n",
       "    <tr>\n",
       "      <th>49593</th>\n",
       "      <td>49593</td>\n",
       "      <td>411354</td>\n",
       "      <td>12</td>\n",
       "      <td>15</td>\n",
       "      <td>False</td>\n",
       "      <td>0</td>\n",
       "      <td>0</td>\n",
       "      <td>4</td>\n",
       "      <td>[]</td>\n",
       "      <td>1</td>\n",
       "    </tr>\n",
       "  </tbody>\n",
       "</table>\n",
       "<p>50000 rows × 10 columns</p>\n",
       "</div>"
      ],
      "text/plain": [
       "       Node_id  Receipt_time  Height  Region_id  is_Agent  Agent_subset  \\\n",
       "6258      6258             0       0          5      True             1   \n",
       "47332    47332         11546       1          5      True             1   \n",
       "20107    20107         18212       1          5      True             1   \n",
       "35938    35938         29747       1         11      True             1   \n",
       "15019    15019         34627       2         11      True             1   \n",
       "...        ...           ...     ...        ...       ...           ...   \n",
       "49388    49388        399617      11         15     False             0   \n",
       "46795    46795        401940      10         15     False             0   \n",
       "47812    47812        406476      11         15     False             0   \n",
       "45589    45589        407315      14         15     False             0   \n",
       "49593    49593        411354      12         15     False             0   \n",
       "\n",
       "       Leaves  Links                                        Leaves_list  \\\n",
       "6258        6      6          [47332, 20107, 35938, 7023, 15982, 46631]   \n",
       "47332       7      8  [15019, 18001, 22807, 40396, 22619, 47994, 45064]   \n",
       "20107      10     11  [10330, 15352, 46692, 16481, 26079, 31024, 433...   \n",
       "35938       6      8             [17025, 42, 29368, 2157, 47441, 42192]   \n",
       "15019       4      6                       [32598, 15937, 37476, 42290]   \n",
       "...       ...    ...                                                ...   \n",
       "49388       0      4                                                 []   \n",
       "46795       0      4                                                 []   \n",
       "47812       0      4                                                 []   \n",
       "45589       0      4                                                 []   \n",
       "49593       0      4                                                 []   \n",
       "\n",
       "       is_Leave  \n",
       "6258          0  \n",
       "47332         0  \n",
       "20107         0  \n",
       "35938         0  \n",
       "15019         0  \n",
       "...         ...  \n",
       "49388         1  \n",
       "46795         1  \n",
       "47812         1  \n",
       "45589         1  \n",
       "49593         1  \n",
       "\n",
       "[50000 rows x 10 columns]"
      ]
     },
     "execution_count": 45,
     "metadata": {},
     "output_type": "execute_result"
    }
   ],
   "source": [
    "Data['is_Leave'] = np.where(Data['Leaves']>0, 0, 1)\n",
    "Data.sort_values('Receipt_time')"
   ]
  },
  {
   "cell_type": "code",
   "execution_count": 40,
   "metadata": {},
   "outputs": [
    {
     "data": {
      "text/html": [
       "<div>\n",
       "<style scoped>\n",
       "    .dataframe tbody tr th:only-of-type {\n",
       "        vertical-align: middle;\n",
       "    }\n",
       "\n",
       "    .dataframe tbody tr th {\n",
       "        vertical-align: top;\n",
       "    }\n",
       "\n",
       "    .dataframe thead th {\n",
       "        text-align: right;\n",
       "    }\n",
       "</style>\n",
       "<table border=\"1\" class=\"dataframe\">\n",
       "  <thead>\n",
       "    <tr style=\"text-align: right;\">\n",
       "      <th></th>\n",
       "      <th>Node_id</th>\n",
       "      <th>Receipt_time</th>\n",
       "      <th>Height</th>\n",
       "      <th>is_Agent</th>\n",
       "      <th>Agent_subset</th>\n",
       "      <th>Leaves</th>\n",
       "      <th>Links</th>\n",
       "      <th>is_Leave</th>\n",
       "    </tr>\n",
       "    <tr>\n",
       "      <th>Region_id</th>\n",
       "      <th></th>\n",
       "      <th></th>\n",
       "      <th></th>\n",
       "      <th></th>\n",
       "      <th></th>\n",
       "      <th></th>\n",
       "      <th></th>\n",
       "      <th></th>\n",
       "    </tr>\n",
       "  </thead>\n",
       "  <tbody>\n",
       "    <tr>\n",
       "      <th>0</th>\n",
       "      <td>27597.953540</td>\n",
       "      <td>95267.208794</td>\n",
       "      <td>5.243086</td>\n",
       "      <td>0.790929</td>\n",
       "      <td>0.858131</td>\n",
       "      <td>0.918971</td>\n",
       "      <td>8.983131</td>\n",
       "      <td>0.581305</td>\n",
       "    </tr>\n",
       "    <tr>\n",
       "      <th>1</th>\n",
       "      <td>24637.614714</td>\n",
       "      <td>113618.113262</td>\n",
       "      <td>6.047435</td>\n",
       "      <td>0.956438</td>\n",
       "      <td>1.092288</td>\n",
       "      <td>1.818006</td>\n",
       "      <td>9.619555</td>\n",
       "      <td>0.287512</td>\n",
       "    </tr>\n",
       "    <tr>\n",
       "      <th>2</th>\n",
       "      <td>25313.315742</td>\n",
       "      <td>176411.965423</td>\n",
       "      <td>9.287534</td>\n",
       "      <td>0.911435</td>\n",
       "      <td>1.090385</td>\n",
       "      <td>0.767364</td>\n",
       "      <td>7.680922</td>\n",
       "      <td>0.556870</td>\n",
       "    </tr>\n",
       "    <tr>\n",
       "      <th>3</th>\n",
       "      <td>25030.830010</td>\n",
       "      <td>128618.356326</td>\n",
       "      <td>6.854855</td>\n",
       "      <td>0.879699</td>\n",
       "      <td>0.933638</td>\n",
       "      <td>0.693364</td>\n",
       "      <td>7.454397</td>\n",
       "      <td>0.600850</td>\n",
       "    </tr>\n",
       "    <tr>\n",
       "      <th>4</th>\n",
       "      <td>24724.682656</td>\n",
       "      <td>150725.769695</td>\n",
       "      <td>7.743964</td>\n",
       "      <td>0.860864</td>\n",
       "      <td>0.966328</td>\n",
       "      <td>0.635642</td>\n",
       "      <td>6.775413</td>\n",
       "      <td>0.607052</td>\n",
       "    </tr>\n",
       "    <tr>\n",
       "      <th>5</th>\n",
       "      <td>24600.900168</td>\n",
       "      <td>250862.023451</td>\n",
       "      <td>12.666667</td>\n",
       "      <td>0.769514</td>\n",
       "      <td>1.281407</td>\n",
       "      <td>1.333333</td>\n",
       "      <td>8.802680</td>\n",
       "      <td>0.443886</td>\n",
       "    </tr>\n",
       "    <tr>\n",
       "      <th>6</th>\n",
       "      <td>24741.454487</td>\n",
       "      <td>92678.857327</td>\n",
       "      <td>5.086830</td>\n",
       "      <td>0.937702</td>\n",
       "      <td>1.001614</td>\n",
       "      <td>1.453196</td>\n",
       "      <td>6.757263</td>\n",
       "      <td>0.401227</td>\n",
       "    </tr>\n",
       "    <tr>\n",
       "      <th>7</th>\n",
       "      <td>24883.992815</td>\n",
       "      <td>157167.088410</td>\n",
       "      <td>8.108716</td>\n",
       "      <td>0.924399</td>\n",
       "      <td>1.189628</td>\n",
       "      <td>0.843174</td>\n",
       "      <td>8.909403</td>\n",
       "      <td>0.506717</td>\n",
       "    </tr>\n",
       "    <tr>\n",
       "      <th>8</th>\n",
       "      <td>24917.914934</td>\n",
       "      <td>130428.048609</td>\n",
       "      <td>6.905341</td>\n",
       "      <td>0.942437</td>\n",
       "      <td>1.101695</td>\n",
       "      <td>1.257115</td>\n",
       "      <td>8.515830</td>\n",
       "      <td>0.373201</td>\n",
       "    </tr>\n",
       "    <tr>\n",
       "      <th>9</th>\n",
       "      <td>24780.167888</td>\n",
       "      <td>193126.460975</td>\n",
       "      <td>10.645428</td>\n",
       "      <td>0.878942</td>\n",
       "      <td>0.994266</td>\n",
       "      <td>0.900605</td>\n",
       "      <td>7.992991</td>\n",
       "      <td>0.579484</td>\n",
       "    </tr>\n",
       "    <tr>\n",
       "      <th>10</th>\n",
       "      <td>24838.672184</td>\n",
       "      <td>173909.367089</td>\n",
       "      <td>10.137942</td>\n",
       "      <td>0.930217</td>\n",
       "      <td>1.010386</td>\n",
       "      <td>1.466407</td>\n",
       "      <td>6.908796</td>\n",
       "      <td>0.400844</td>\n",
       "    </tr>\n",
       "    <tr>\n",
       "      <th>11</th>\n",
       "      <td>22641.807188</td>\n",
       "      <td>257248.403969</td>\n",
       "      <td>12.488955</td>\n",
       "      <td>0.476975</td>\n",
       "      <td>0.672033</td>\n",
       "      <td>0.371771</td>\n",
       "      <td>7.087233</td>\n",
       "      <td>0.736803</td>\n",
       "    </tr>\n",
       "    <tr>\n",
       "      <th>12</th>\n",
       "      <td>25190.945157</td>\n",
       "      <td>188275.254009</td>\n",
       "      <td>10.558050</td>\n",
       "      <td>0.929121</td>\n",
       "      <td>1.007697</td>\n",
       "      <td>0.810776</td>\n",
       "      <td>9.201090</td>\n",
       "      <td>0.540090</td>\n",
       "    </tr>\n",
       "    <tr>\n",
       "      <th>13</th>\n",
       "      <td>25229.522823</td>\n",
       "      <td>179593.356426</td>\n",
       "      <td>8.778245</td>\n",
       "      <td>0.627711</td>\n",
       "      <td>0.655228</td>\n",
       "      <td>0.913564</td>\n",
       "      <td>5.304306</td>\n",
       "      <td>0.558757</td>\n",
       "    </tr>\n",
       "    <tr>\n",
       "      <th>14</th>\n",
       "      <td>24758.850760</td>\n",
       "      <td>163638.939480</td>\n",
       "      <td>8.761407</td>\n",
       "      <td>0.969582</td>\n",
       "      <td>1.201838</td>\n",
       "      <td>0.839670</td>\n",
       "      <td>12.397655</td>\n",
       "      <td>0.540558</td>\n",
       "    </tr>\n",
       "    <tr>\n",
       "      <th>15</th>\n",
       "      <td>25322.871309</td>\n",
       "      <td>159517.389281</td>\n",
       "      <td>7.486200</td>\n",
       "      <td>0.690308</td>\n",
       "      <td>0.718549</td>\n",
       "      <td>0.747433</td>\n",
       "      <td>4.000000</td>\n",
       "      <td>0.500963</td>\n",
       "    </tr>\n",
       "  </tbody>\n",
       "</table>\n",
       "</div>"
      ],
      "text/plain": [
       "                Node_id   Receipt_time     Height  is_Agent  Agent_subset  \\\n",
       "Region_id                                                                   \n",
       "0          27597.953540   95267.208794   5.243086  0.790929      0.858131   \n",
       "1          24637.614714  113618.113262   6.047435  0.956438      1.092288   \n",
       "2          25313.315742  176411.965423   9.287534  0.911435      1.090385   \n",
       "3          25030.830010  128618.356326   6.854855  0.879699      0.933638   \n",
       "4          24724.682656  150725.769695   7.743964  0.860864      0.966328   \n",
       "5          24600.900168  250862.023451  12.666667  0.769514      1.281407   \n",
       "6          24741.454487   92678.857327   5.086830  0.937702      1.001614   \n",
       "7          24883.992815  157167.088410   8.108716  0.924399      1.189628   \n",
       "8          24917.914934  130428.048609   6.905341  0.942437      1.101695   \n",
       "9          24780.167888  193126.460975  10.645428  0.878942      0.994266   \n",
       "10         24838.672184  173909.367089  10.137942  0.930217      1.010386   \n",
       "11         22641.807188  257248.403969  12.488955  0.476975      0.672033   \n",
       "12         25190.945157  188275.254009  10.558050  0.929121      1.007697   \n",
       "13         25229.522823  179593.356426   8.778245  0.627711      0.655228   \n",
       "14         24758.850760  163638.939480   8.761407  0.969582      1.201838   \n",
       "15         25322.871309  159517.389281   7.486200  0.690308      0.718549   \n",
       "\n",
       "             Leaves      Links  is_Leave  \n",
       "Region_id                                 \n",
       "0          0.918971   8.983131  0.581305  \n",
       "1          1.818006   9.619555  0.287512  \n",
       "2          0.767364   7.680922  0.556870  \n",
       "3          0.693364   7.454397  0.600850  \n",
       "4          0.635642   6.775413  0.607052  \n",
       "5          1.333333   8.802680  0.443886  \n",
       "6          1.453196   6.757263  0.401227  \n",
       "7          0.843174   8.909403  0.506717  \n",
       "8          1.257115   8.515830  0.373201  \n",
       "9          0.900605   7.992991  0.579484  \n",
       "10         1.466407   6.908796  0.400844  \n",
       "11         0.371771   7.087233  0.736803  \n",
       "12         0.810776   9.201090  0.540090  \n",
       "13         0.913564   5.304306  0.558757  \n",
       "14         0.839670  12.397655  0.540558  \n",
       "15         0.747433   4.000000  0.500963  "
      ]
     },
     "execution_count": 40,
     "metadata": {},
     "output_type": "execute_result"
    }
   ],
   "source": [
    "Data_region = Data.groupby(['Region_id']).mean()\n",
    "Data_region"
   ]
  },
  {
   "cell_type": "code",
   "execution_count": 10,
   "metadata": {},
   "outputs": [],
   "source": [
    "leaves_overtime = np.array(Data.groupby(pd.cut(Data['Receipt_time'],np.arange(0, 70000, 1000)))['is_Leave'].sum())\n",
    "leaves_overtime_cum = np.cumsum(leaves_overtime)"
   ]
  },
  {
   "cell_type": "code",
   "execution_count": 11,
   "metadata": {},
   "outputs": [],
   "source": [
    "import matplotlib\n",
    "font = {'size'   : 18}\n",
    "\n",
    "matplotlib.rc('font', **font)"
   ]
  },
  {
   "cell_type": "code",
   "execution_count": 12,
   "metadata": {},
   "outputs": [
    {
     "data": {
      "text/plain": [
       "[<matplotlib.lines.Line2D at 0x7fe749cb8100>]"
      ]
     },
     "execution_count": 12,
     "metadata": {},
     "output_type": "execute_result"
    },
    {
     "data": {
      "image/png": "[encoded data removed]",
      "text/plain": [
       "<Figure size 864x576 with 1 Axes>"
      ]
     },
     "metadata": {
      "needs_background": "light"
     },
     "output_type": "display_data"
    }
   ],
   "source": [
    "fig = plt.figure(figsize=(12,8))\n",
    "#fig.suptitle('bold figure suptitle', fontsize=14, fontweight='bold')\n",
    "\n",
    "ax = fig.add_subplot(111)\n",
    "fig.subplots_adjust(top=0.85)\n",
    "#ax.set_title('axes title')\n",
    "\n",
    "ax.set_xlabel('Time (s)')\n",
    "ax.set_ylabel('Percentage of leaves')\n",
    "ax.plot(leaves_overtime/sum(leaves_overtime))\n",
    "ax.plot(np.array(leaves_overtime_cum)/sum(leaves_overtime))"
   ]
  },
  {
   "cell_type": "code",
   "execution_count": 13,
   "metadata": {},
   "outputs": [
    {
     "data": {
      "text/plain": [
       "[<matplotlib.lines.Line2D at 0x7fe749bc3af0>]"
      ]
     },
     "execution_count": 13,
     "metadata": {},
     "output_type": "execute_result"
    },
    {
     "data": {
      "image/png": "[encoded data removed]",
      "text/plain": [
       "<Figure size 864x576 with 1 Axes>"
      ]
     },
     "metadata": {
      "needs_background": "light"
     },
     "output_type": "display_data"
    }
   ],
   "source": [
    "block_overtime = np.array(Data.groupby(pd.cut(Data['Receipt_time'],np.arange(-1,70000,1000)))['Node_id'].count())\n",
    "block_overtime_cum = np.cumsum(block_overtime)\n",
    "\n",
    "fig = plt.figure(figsize=(12,8))\n",
    "#fig.suptitle('bold figure suptitle', fontsize=14, fontweight='bold')\n",
    "\n",
    "ax = fig.add_subplot(111)\n",
    "fig.subplots_adjust(top=0.85)\n",
    "#ax.set_title('axes title')\n",
    "\n",
    "ax.set_xlabel('Time (s)')\n",
    "ax.set_ylabel('Percentage of nodes received the block')\n",
    "ax.plot(block_overtime/sum(block_overtime))\n",
    "ax.plot(np.array(block_overtime_cum)/sum(block_overtime))"
   ]
  },
  {
   "cell_type": "code",
   "execution_count": 14,
   "metadata": {},
   "outputs": [
    {
     "data": {
      "text/plain": [
       "[<matplotlib.lines.Line2D at 0x7fe749b9dbe0>]"
      ]
     },
     "execution_count": 14,
     "metadata": {},
     "output_type": "execute_result"
    },
    {
     "data": {
      "image/png": "[encoded data removed]",
      "text/plain": [
       "<Figure size 1440x720 with 1 Axes>"
      ]
     },
     "metadata": {
      "needs_background": "light"
     },
     "output_type": "display_data"
    }
   ],
   "source": [
    "Data_agent = Data[Data['is_Agent'] == True]\n",
    "plt.figure(figsize=(20,10))\n",
    "plt.plot(Data_agent['Receipt_time'], Data_agent['Agent_subset'], '.')"
   ]
  },
  {
   "cell_type": "code",
   "execution_count": 15,
   "metadata": {},
   "outputs": [
    {
     "data": {
      "text/plain": [
       "44829"
      ]
     },
     "execution_count": 15,
     "metadata": {},
     "output_type": "execute_result"
    }
   ],
   "source": [
    "len(Data_agent)"
   ]
  },
  {
   "cell_type": "code",
   "execution_count": 16,
   "metadata": {},
   "outputs": [
    {
     "data": {
      "text/plain": [
       "array([1, 1, 1, ..., 1, 2, 1])"
      ]
     },
     "execution_count": 16,
     "metadata": {},
     "output_type": "execute_result"
    }
   ],
   "source": [
    "x = Data_agent[Data_agent['Agent_subset'] != 0]['Agent_subset'].values\n",
    "x"
   ]
  },
  {
   "cell_type": "code",
   "execution_count": 17,
   "metadata": {},
   "outputs": [
    {
     "data": {
      "text/plain": [
       "[<matplotlib.lines.Line2D at 0x7fe749afd520>]"
      ]
     },
     "execution_count": 17,
     "metadata": {},
     "output_type": "execute_result"
    },
    {
     "data": {
      "image/png": "[encoded data removed]",
      "text/plain": [
       "<Figure size 864x576 with 1 Axes>"
      ]
     },
     "metadata": {
      "needs_background": "light"
     },
     "output_type": "display_data"
    }
   ],
   "source": [
    "fig = plt.figure(figsize=(12,8))\n",
    "#fig.suptitle('bold figure suptitle', fontsize=14, fontweight='bold')\n",
    "\n",
    "ax = fig.add_subplot(111)\n",
    "fig.subplots_adjust(top=0.85)\n",
    "#ax.set_title('axes title')\n",
    "\n",
    "ax.set_xlabel('Agent index')\n",
    "ax.set_ylabel('Agent Subset')\n",
    "ax.plot(Data_agent['Agent_subset'].values, '.')"
   ]
  },
  {
   "cell_type": "code",
   "execution_count": 18,
   "metadata": {},
   "outputs": [
    {
     "data": {
      "text/html": [
       "<div>\n",
       "<style scoped>\n",
       "    .dataframe tbody tr th:only-of-type {\n",
       "        vertical-align: middle;\n",
       "    }\n",
       "\n",
       "    .dataframe tbody tr th {\n",
       "        vertical-align: top;\n",
       "    }\n",
       "\n",
       "    .dataframe thead th {\n",
       "        text-align: right;\n",
       "    }\n",
       "</style>\n",
       "<table border=\"1\" class=\"dataframe\">\n",
       "  <thead>\n",
       "    <tr style=\"text-align: right;\">\n",
       "      <th></th>\n",
       "      <th>Node_id</th>\n",
       "      <th>Receipt_time</th>\n",
       "      <th>Height</th>\n",
       "      <th>Region_id</th>\n",
       "      <th>is_Agent</th>\n",
       "      <th>Agent_subset</th>\n",
       "      <th>Leaves</th>\n",
       "      <th>Links</th>\n",
       "      <th>Leaves_list</th>\n",
       "      <th>is_Leave</th>\n",
       "    </tr>\n",
       "  </thead>\n",
       "  <tbody>\n",
       "    <tr>\n",
       "      <th>37947</th>\n",
       "      <td>37947</td>\n",
       "      <td>21629</td>\n",
       "      <td>6</td>\n",
       "      <td>14</td>\n",
       "      <td>True</td>\n",
       "      <td>6</td>\n",
       "      <td>6</td>\n",
       "      <td>14</td>\n",
       "      <td>[1838, 11197, 30378, 34992, 31734, 46600]</td>\n",
       "      <td>0</td>\n",
       "    </tr>\n",
       "  </tbody>\n",
       "</table>\n",
       "</div>"
      ],
      "text/plain": [
       "       Node_id  Receipt_time  Height  Region_id  is_Agent  Agent_subset  \\\n",
       "37947    37947         21629       6         14      True             6   \n",
       "\n",
       "       Leaves  Links                                Leaves_list  is_Leave  \n",
       "37947       6     14  [1838, 11197, 30378, 34992, 31734, 46600]         0  "
      ]
     },
     "execution_count": 18,
     "metadata": {},
     "output_type": "execute_result"
    }
   ],
   "source": [
    "Data_agent[Data_agent['Agent_subset'] == Data_agent['Agent_subset'].max()]"
   ]
  },
  {
   "cell_type": "code",
   "execution_count": 19,
   "metadata": {},
   "outputs": [
    {
     "data": {
      "text/plain": [
       "25357"
      ]
     },
     "execution_count": 19,
     "metadata": {},
     "output_type": "execute_result"
    }
   ],
   "source": [
    "len(Data_agent[Data_agent['is_Leave'] == 1])"
   ]
  },
  {
   "cell_type": "code",
   "execution_count": 20,
   "metadata": {},
   "outputs": [
    {
     "data": {
      "text/plain": [
       "[<matplotlib.lines.Line2D at 0x7fe749accdf0>]"
      ]
     },
     "execution_count": 20,
     "metadata": {},
     "output_type": "execute_result"
    },
    {
     "data": {
      "image/png": "[encoded data removed]",
      "text/plain": [
       "<Figure size 1440x720 with 1 Axes>"
      ]
     },
     "metadata": {
      "needs_background": "light"
     },
     "output_type": "display_data"
    }
   ],
   "source": [
    "leaves_overheight = np.array(Data.groupby(['Height'])['is_Leave'].sum())\n",
    "leaves_overheight_cum = np.cumsum(leaves_overheight)\n",
    "plt.figure(figsize=(20,10))\n",
    "plt.plot(leaves_overheight/sum(leaves_overheight))\n",
    "plt.plot(np.array(leaves_overheight_cum)/sum(leaves_overheight))"
   ]
  },
  {
   "cell_type": "code",
   "execution_count": 21,
   "metadata": {},
   "outputs": [
    {
     "data": {
      "text/plain": [
       "(array([6.0000e+00, 5.3000e+01, 4.5700e+02, 3.3470e+03, 1.1203e+04,\n",
       "        1.6170e+04, 3.5740e+03, 5.6090e+03, 2.7980e+03, 1.6120e+03]),\n",
       " array([ 0. ,  1.2,  2.4,  3.6,  4.8,  6. ,  7.2,  8.4,  9.6, 10.8, 12. ]),\n",
       " <a list of 10 Patch objects>)"
      ]
     },
     "execution_count": 21,
     "metadata": {},
     "output_type": "execute_result"
    },
    {
     "data": {
      "image/png": "[encoded data removed]",
      "text/plain": [
       "<Figure size 432x288 with 1 Axes>"
      ]
     },
     "metadata": {
      "needs_background": "light"
     },
     "output_type": "display_data"
    }
   ],
   "source": [
    "plt.hist(Data_agent['Height'])"
   ]
  },
  {
   "cell_type": "code",
   "execution_count": 22,
   "metadata": {},
   "outputs": [
    {
     "data": {
      "text/plain": [
       "15066"
      ]
     },
     "execution_count": 22,
     "metadata": {},
     "output_type": "execute_result"
    }
   ],
   "source": [
    "len(Data_agent[Data_agent['Height'] < 6]['Agent_subset'])"
   ]
  },
  {
   "cell_type": "code",
   "execution_count": null,
   "metadata": {},
   "outputs": [],
   "source": []
  }
 ],
 "metadata": {
  "kernelspec": {
   "display_name": "Python 3",
   "language": "python",
   "name": "python3"
  },
  "language_info": {
   "codemirror_mode": {
    "name": "ipython",
    "version": 3
   },
   "file_extension": ".py",
   "mimetype": "text/x-python",
   "name": "python",
   "nbconvert_exporter": "python",
   "pygments_lexer": "ipython3",
   "version": "3.8.2"
  }
 },
 "nbformat": 4,
 "nbformat_minor": 4
}
